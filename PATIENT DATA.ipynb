{
 "cells": [
  {
   "cell_type": "code",
   "execution_count": 2,
   "metadata": {},
   "outputs": [],
   "source": [
    "import numpy as np\n",
    "import matplotlib.pyplot as plt\n",
    "import pandas as pd"
   ]
  },
  {
   "cell_type": "code",
   "execution_count": 5,
   "metadata": {},
   "outputs": [],
   "source": [
    "dataset=pd.read_csv(\"patient data.file.csv\")"
   ]
  },
  {
   "cell_type": "code",
   "execution_count": 6,
   "metadata": {},
   "outputs": [],
   "source": [
    "data=pd.DataFrame(dataset)"
   ]
  },
  {
   "cell_type": "code",
   "execution_count": 7,
   "metadata": {},
   "outputs": [
    {
     "data": {
      "text/html": [
       "<div>\n",
       "<style scoped>\n",
       "    .dataframe tbody tr th:only-of-type {\n",
       "        vertical-align: middle;\n",
       "    }\n",
       "\n",
       "    .dataframe tbody tr th {\n",
       "        vertical-align: top;\n",
       "    }\n",
       "\n",
       "    .dataframe thead th {\n",
       "        text-align: right;\n",
       "    }\n",
       "</style>\n",
       "<table border=\"1\" class=\"dataframe\">\n",
       "  <thead>\n",
       "    <tr style=\"text-align: right;\">\n",
       "      <th></th>\n",
       "      <th>Unnamed: 0</th>\n",
       "      <th>Unnamed: 0.1</th>\n",
       "      <th>HAEMATOCRIT</th>\n",
       "      <th>HAEMOGLOBINS</th>\n",
       "      <th>ERYTHROCYTE</th>\n",
       "      <th>LEUCOCYTE</th>\n",
       "      <th>THROMBOCYTE</th>\n",
       "      <th>MCH</th>\n",
       "      <th>MCHC</th>\n",
       "      <th>MCV</th>\n",
       "      <th>AGE</th>\n",
       "      <th>SEX_F</th>\n",
       "    </tr>\n",
       "  </thead>\n",
       "  <tbody>\n",
       "    <tr>\n",
       "      <th>0</th>\n",
       "      <td>819</td>\n",
       "      <td>3625</td>\n",
       "      <td>38.9</td>\n",
       "      <td>12.6</td>\n",
       "      <td>4.76</td>\n",
       "      <td>14.5</td>\n",
       "      <td>396</td>\n",
       "      <td>26.5</td>\n",
       "      <td>32.4</td>\n",
       "      <td>81.7</td>\n",
       "      <td>68</td>\n",
       "      <td>1</td>\n",
       "    </tr>\n",
       "    <tr>\n",
       "      <th>1</th>\n",
       "      <td>558</td>\n",
       "      <td>4394</td>\n",
       "      <td>26.3</td>\n",
       "      <td>8.2</td>\n",
       "      <td>4.18</td>\n",
       "      <td>10.9</td>\n",
       "      <td>222</td>\n",
       "      <td>19.6</td>\n",
       "      <td>31.2</td>\n",
       "      <td>62.9</td>\n",
       "      <td>91</td>\n",
       "      <td>0</td>\n",
       "    </tr>\n",
       "    <tr>\n",
       "      <th>2</th>\n",
       "      <td>774</td>\n",
       "      <td>3680</td>\n",
       "      <td>69.0</td>\n",
       "      <td>12.1</td>\n",
       "      <td>4.04</td>\n",
       "      <td>6.2</td>\n",
       "      <td>307</td>\n",
       "      <td>30.0</td>\n",
       "      <td>34.8</td>\n",
       "      <td>86.1</td>\n",
       "      <td>69</td>\n",
       "      <td>0</td>\n",
       "    </tr>\n",
       "    <tr>\n",
       "      <th>3</th>\n",
       "      <td>319</td>\n",
       "      <td>3076</td>\n",
       "      <td>40.7</td>\n",
       "      <td>13.5</td>\n",
       "      <td>4.19</td>\n",
       "      <td>5.6</td>\n",
       "      <td>341</td>\n",
       "      <td>32.2</td>\n",
       "      <td>33.2</td>\n",
       "      <td>97.1</td>\n",
       "      <td>61</td>\n",
       "      <td>0</td>\n",
       "    </tr>\n",
       "    <tr>\n",
       "      <th>4</th>\n",
       "      <td>662</td>\n",
       "      <td>2713</td>\n",
       "      <td>37.1</td>\n",
       "      <td>12.7</td>\n",
       "      <td>4.83</td>\n",
       "      <td>10.2</td>\n",
       "      <td>337</td>\n",
       "      <td>26.3</td>\n",
       "      <td>34.2</td>\n",
       "      <td>76.8</td>\n",
       "      <td>56</td>\n",
       "      <td>1</td>\n",
       "    </tr>\n",
       "  </tbody>\n",
       "</table>\n",
       "</div>"
      ],
      "text/plain": [
       "   Unnamed: 0  Unnamed: 0.1  HAEMATOCRIT  HAEMOGLOBINS  ERYTHROCYTE  \\\n",
       "0         819          3625         38.9          12.6         4.76   \n",
       "1         558          4394         26.3           8.2         4.18   \n",
       "2         774          3680         69.0          12.1         4.04   \n",
       "3         319          3076         40.7          13.5         4.19   \n",
       "4         662          2713         37.1          12.7         4.83   \n",
       "\n",
       "   LEUCOCYTE  THROMBOCYTE   MCH  MCHC   MCV  AGE  SEX_F  \n",
       "0       14.5          396  26.5  32.4  81.7   68      1  \n",
       "1       10.9          222  19.6  31.2  62.9   91      0  \n",
       "2        6.2          307  30.0  34.8  86.1   69      0  \n",
       "3        5.6          341  32.2  33.2  97.1   61      0  \n",
       "4       10.2          337  26.3  34.2  76.8   56      1  "
      ]
     },
     "execution_count": 7,
     "metadata": {},
     "output_type": "execute_result"
    }
   ],
   "source": [
    "dataset.head()"
   ]
  },
  {
   "cell_type": "code",
   "execution_count": 8,
   "metadata": {},
   "outputs": [
    {
     "data": {
      "text/html": [
       "<div>\n",
       "<style scoped>\n",
       "    .dataframe tbody tr th:only-of-type {\n",
       "        vertical-align: middle;\n",
       "    }\n",
       "\n",
       "    .dataframe tbody tr th {\n",
       "        vertical-align: top;\n",
       "    }\n",
       "\n",
       "    .dataframe thead th {\n",
       "        text-align: right;\n",
       "    }\n",
       "</style>\n",
       "<table border=\"1\" class=\"dataframe\">\n",
       "  <thead>\n",
       "    <tr style=\"text-align: right;\">\n",
       "      <th></th>\n",
       "      <th>Unnamed: 0</th>\n",
       "      <th>Unnamed: 0.1</th>\n",
       "      <th>HAEMATOCRIT</th>\n",
       "      <th>HAEMOGLOBINS</th>\n",
       "      <th>ERYTHROCYTE</th>\n",
       "      <th>LEUCOCYTE</th>\n",
       "      <th>THROMBOCYTE</th>\n",
       "      <th>MCH</th>\n",
       "      <th>MCHC</th>\n",
       "      <th>MCV</th>\n",
       "      <th>AGE</th>\n",
       "      <th>SEX_F</th>\n",
       "    </tr>\n",
       "  </thead>\n",
       "  <tbody>\n",
       "    <tr>\n",
       "      <th>172</th>\n",
       "      <td>204</td>\n",
       "      <td>1100</td>\n",
       "      <td>39.3</td>\n",
       "      <td>12.9</td>\n",
       "      <td>4.92</td>\n",
       "      <td>2.3</td>\n",
       "      <td>234</td>\n",
       "      <td>26.2</td>\n",
       "      <td>32.8</td>\n",
       "      <td>79.9</td>\n",
       "      <td>29</td>\n",
       "      <td>1</td>\n",
       "    </tr>\n",
       "    <tr>\n",
       "      <th>173</th>\n",
       "      <td>157</td>\n",
       "      <td>4163</td>\n",
       "      <td>39.9</td>\n",
       "      <td>13.0</td>\n",
       "      <td>4.37</td>\n",
       "      <td>5.3</td>\n",
       "      <td>224</td>\n",
       "      <td>29.7</td>\n",
       "      <td>32.6</td>\n",
       "      <td>91.3</td>\n",
       "      <td>79</td>\n",
       "      <td>1</td>\n",
       "    </tr>\n",
       "    <tr>\n",
       "      <th>174</th>\n",
       "      <td>330</td>\n",
       "      <td>884</td>\n",
       "      <td>44.3</td>\n",
       "      <td>14.8</td>\n",
       "      <td>5.20</td>\n",
       "      <td>6.7</td>\n",
       "      <td>347</td>\n",
       "      <td>28.5</td>\n",
       "      <td>33.4</td>\n",
       "      <td>85.2</td>\n",
       "      <td>26</td>\n",
       "      <td>0</td>\n",
       "    </tr>\n",
       "    <tr>\n",
       "      <th>175</th>\n",
       "      <td>843</td>\n",
       "      <td>3976</td>\n",
       "      <td>26.9</td>\n",
       "      <td>9.2</td>\n",
       "      <td>3.16</td>\n",
       "      <td>3.8</td>\n",
       "      <td>335</td>\n",
       "      <td>29.1</td>\n",
       "      <td>34.2</td>\n",
       "      <td>85.1</td>\n",
       "      <td>75</td>\n",
       "      <td>0</td>\n",
       "    </tr>\n",
       "    <tr>\n",
       "      <th>176</th>\n",
       "      <td>57</td>\n",
       "      <td>1363</td>\n",
       "      <td>45.1</td>\n",
       "      <td>15.2</td>\n",
       "      <td>5.20</td>\n",
       "      <td>6.0</td>\n",
       "      <td>251</td>\n",
       "      <td>29.2</td>\n",
       "      <td>33.7</td>\n",
       "      <td>86.7</td>\n",
       "      <td>33</td>\n",
       "      <td>0</td>\n",
       "    </tr>\n",
       "  </tbody>\n",
       "</table>\n",
       "</div>"
      ],
      "text/plain": [
       "     Unnamed: 0  Unnamed: 0.1  HAEMATOCRIT  HAEMOGLOBINS  ERYTHROCYTE  \\\n",
       "172         204          1100         39.3          12.9         4.92   \n",
       "173         157          4163         39.9          13.0         4.37   \n",
       "174         330           884         44.3          14.8         5.20   \n",
       "175         843          3976         26.9           9.2         3.16   \n",
       "176          57          1363         45.1          15.2         5.20   \n",
       "\n",
       "     LEUCOCYTE  THROMBOCYTE   MCH  MCHC   MCV  AGE  SEX_F  \n",
       "172        2.3          234  26.2  32.8  79.9   29      1  \n",
       "173        5.3          224  29.7  32.6  91.3   79      1  \n",
       "174        6.7          347  28.5  33.4  85.2   26      0  \n",
       "175        3.8          335  29.1  34.2  85.1   75      0  \n",
       "176        6.0          251  29.2  33.7  86.7   33      0  "
      ]
     },
     "execution_count": 8,
     "metadata": {},
     "output_type": "execute_result"
    }
   ],
   "source": [
    "dataset.tail()"
   ]
  },
  {
   "cell_type": "code",
   "execution_count": 9,
   "metadata": {},
   "outputs": [
    {
     "data": {
      "text/plain": [
       "(177, 12)"
      ]
     },
     "execution_count": 9,
     "metadata": {},
     "output_type": "execute_result"
    }
   ],
   "source": [
    "data.shape"
   ]
  },
  {
   "cell_type": "code",
   "execution_count": 10,
   "metadata": {},
   "outputs": [
    {
     "name": "stdout",
     "output_type": "stream",
     "text": [
      "<class 'pandas.core.frame.DataFrame'>\n",
      "RangeIndex: 177 entries, 0 to 176\n",
      "Data columns (total 12 columns):\n",
      " #   Column        Non-Null Count  Dtype  \n",
      "---  ------        --------------  -----  \n",
      " 0   Unnamed: 0    177 non-null    int64  \n",
      " 1   Unnamed: 0.1  177 non-null    int64  \n",
      " 2   HAEMATOCRIT   177 non-null    float64\n",
      " 3   HAEMOGLOBINS  177 non-null    float64\n",
      " 4   ERYTHROCYTE   177 non-null    float64\n",
      " 5   LEUCOCYTE     177 non-null    float64\n",
      " 6   THROMBOCYTE   177 non-null    int64  \n",
      " 7   MCH           177 non-null    float64\n",
      " 8   MCHC          177 non-null    float64\n",
      " 9   MCV           177 non-null    float64\n",
      " 10  AGE           177 non-null    int64  \n",
      " 11  SEX_F         177 non-null    int64  \n",
      "dtypes: float64(7), int64(5)\n",
      "memory usage: 16.7 KB\n"
     ]
    }
   ],
   "source": [
    "data.info()"
   ]
  },
  {
   "cell_type": "code",
   "execution_count": 11,
   "metadata": {},
   "outputs": [
    {
     "data": {
      "text/plain": [
       "False"
      ]
     },
     "execution_count": 11,
     "metadata": {},
     "output_type": "execute_result"
    }
   ],
   "source": [
    "data.isnull().values.any()"
   ]
  },
  {
   "cell_type": "code",
   "execution_count": 96,
   "metadata": {},
   "outputs": [],
   "source": [
    "4"
   ]
  },
  {
   "cell_type": "code",
   "execution_count": 97,
   "metadata": {},
   "outputs": [
    {
     "data": {
      "text/html": [
       "<div>\n",
       "<style scoped>\n",
       "    .dataframe tbody tr th:only-of-type {\n",
       "        vertical-align: middle;\n",
       "    }\n",
       "\n",
       "    .dataframe tbody tr th {\n",
       "        vertical-align: top;\n",
       "    }\n",
       "\n",
       "    .dataframe thead th {\n",
       "        text-align: right;\n",
       "    }\n",
       "</style>\n",
       "<table border=\"1\" class=\"dataframe\">\n",
       "  <thead>\n",
       "    <tr style=\"text-align: right;\">\n",
       "      <th></th>\n",
       "      <th>Unnamed: 0</th>\n",
       "      <th>Unnamed: 0.1</th>\n",
       "      <th>HAEMATOCRIT</th>\n",
       "      <th>HAEMOGLOBINS</th>\n",
       "      <th>ERYTHROCYTE</th>\n",
       "      <th>LEUCOCYTE</th>\n",
       "      <th>THROMBOCYTE</th>\n",
       "      <th>MCH</th>\n",
       "      <th>MCHC</th>\n",
       "      <th>MCV</th>\n",
       "      <th>AGE</th>\n",
       "    </tr>\n",
       "  </thead>\n",
       "  <tbody>\n",
       "    <tr>\n",
       "      <th>0</th>\n",
       "      <td>819</td>\n",
       "      <td>3625</td>\n",
       "      <td>38.9</td>\n",
       "      <td>12.6</td>\n",
       "      <td>4.76</td>\n",
       "      <td>14.5</td>\n",
       "      <td>396</td>\n",
       "      <td>26.5</td>\n",
       "      <td>32.4</td>\n",
       "      <td>81.7</td>\n",
       "      <td>68</td>\n",
       "    </tr>\n",
       "    <tr>\n",
       "      <th>1</th>\n",
       "      <td>558</td>\n",
       "      <td>4394</td>\n",
       "      <td>26.3</td>\n",
       "      <td>8.2</td>\n",
       "      <td>4.18</td>\n",
       "      <td>10.9</td>\n",
       "      <td>222</td>\n",
       "      <td>19.6</td>\n",
       "      <td>31.2</td>\n",
       "      <td>62.9</td>\n",
       "      <td>91</td>\n",
       "    </tr>\n",
       "    <tr>\n",
       "      <th>2</th>\n",
       "      <td>774</td>\n",
       "      <td>3680</td>\n",
       "      <td>69.0</td>\n",
       "      <td>12.1</td>\n",
       "      <td>4.04</td>\n",
       "      <td>6.2</td>\n",
       "      <td>307</td>\n",
       "      <td>30.0</td>\n",
       "      <td>34.8</td>\n",
       "      <td>86.1</td>\n",
       "      <td>69</td>\n",
       "    </tr>\n",
       "    <tr>\n",
       "      <th>3</th>\n",
       "      <td>319</td>\n",
       "      <td>3076</td>\n",
       "      <td>40.7</td>\n",
       "      <td>13.5</td>\n",
       "      <td>4.19</td>\n",
       "      <td>5.6</td>\n",
       "      <td>341</td>\n",
       "      <td>32.2</td>\n",
       "      <td>33.2</td>\n",
       "      <td>97.1</td>\n",
       "      <td>61</td>\n",
       "    </tr>\n",
       "    <tr>\n",
       "      <th>4</th>\n",
       "      <td>662</td>\n",
       "      <td>2713</td>\n",
       "      <td>37.1</td>\n",
       "      <td>12.7</td>\n",
       "      <td>4.83</td>\n",
       "      <td>10.2</td>\n",
       "      <td>337</td>\n",
       "      <td>26.3</td>\n",
       "      <td>34.2</td>\n",
       "      <td>76.8</td>\n",
       "      <td>56</td>\n",
       "    </tr>\n",
       "    <tr>\n",
       "      <th>...</th>\n",
       "      <td>...</td>\n",
       "      <td>...</td>\n",
       "      <td>...</td>\n",
       "      <td>...</td>\n",
       "      <td>...</td>\n",
       "      <td>...</td>\n",
       "      <td>...</td>\n",
       "      <td>...</td>\n",
       "      <td>...</td>\n",
       "      <td>...</td>\n",
       "      <td>...</td>\n",
       "    </tr>\n",
       "    <tr>\n",
       "      <th>172</th>\n",
       "      <td>204</td>\n",
       "      <td>1100</td>\n",
       "      <td>39.3</td>\n",
       "      <td>12.9</td>\n",
       "      <td>4.92</td>\n",
       "      <td>2.3</td>\n",
       "      <td>234</td>\n",
       "      <td>26.2</td>\n",
       "      <td>32.8</td>\n",
       "      <td>79.9</td>\n",
       "      <td>29</td>\n",
       "    </tr>\n",
       "    <tr>\n",
       "      <th>173</th>\n",
       "      <td>157</td>\n",
       "      <td>4163</td>\n",
       "      <td>39.9</td>\n",
       "      <td>13.0</td>\n",
       "      <td>4.37</td>\n",
       "      <td>5.3</td>\n",
       "      <td>224</td>\n",
       "      <td>29.7</td>\n",
       "      <td>32.6</td>\n",
       "      <td>91.3</td>\n",
       "      <td>79</td>\n",
       "    </tr>\n",
       "    <tr>\n",
       "      <th>174</th>\n",
       "      <td>330</td>\n",
       "      <td>884</td>\n",
       "      <td>44.3</td>\n",
       "      <td>14.8</td>\n",
       "      <td>5.20</td>\n",
       "      <td>6.7</td>\n",
       "      <td>347</td>\n",
       "      <td>28.5</td>\n",
       "      <td>33.4</td>\n",
       "      <td>85.2</td>\n",
       "      <td>26</td>\n",
       "    </tr>\n",
       "    <tr>\n",
       "      <th>175</th>\n",
       "      <td>843</td>\n",
       "      <td>3976</td>\n",
       "      <td>26.9</td>\n",
       "      <td>9.2</td>\n",
       "      <td>3.16</td>\n",
       "      <td>3.8</td>\n",
       "      <td>335</td>\n",
       "      <td>29.1</td>\n",
       "      <td>34.2</td>\n",
       "      <td>85.1</td>\n",
       "      <td>75</td>\n",
       "    </tr>\n",
       "    <tr>\n",
       "      <th>176</th>\n",
       "      <td>57</td>\n",
       "      <td>1363</td>\n",
       "      <td>45.1</td>\n",
       "      <td>15.2</td>\n",
       "      <td>5.20</td>\n",
       "      <td>6.0</td>\n",
       "      <td>251</td>\n",
       "      <td>29.2</td>\n",
       "      <td>33.7</td>\n",
       "      <td>86.7</td>\n",
       "      <td>33</td>\n",
       "    </tr>\n",
       "  </tbody>\n",
       "</table>\n",
       "<p>177 rows × 11 columns</p>\n",
       "</div>"
      ],
      "text/plain": [
       "     Unnamed: 0  Unnamed: 0.1  HAEMATOCRIT  HAEMOGLOBINS  ERYTHROCYTE  \\\n",
       "0           819          3625         38.9          12.6         4.76   \n",
       "1           558          4394         26.3           8.2         4.18   \n",
       "2           774          3680         69.0          12.1         4.04   \n",
       "3           319          3076         40.7          13.5         4.19   \n",
       "4           662          2713         37.1          12.7         4.83   \n",
       "..          ...           ...          ...           ...          ...   \n",
       "172         204          1100         39.3          12.9         4.92   \n",
       "173         157          4163         39.9          13.0         4.37   \n",
       "174         330           884         44.3          14.8         5.20   \n",
       "175         843          3976         26.9           9.2         3.16   \n",
       "176          57          1363         45.1          15.2         5.20   \n",
       "\n",
       "     LEUCOCYTE  THROMBOCYTE   MCH  MCHC   MCV  AGE  \n",
       "0         14.5          396  26.5  32.4  81.7   68  \n",
       "1         10.9          222  19.6  31.2  62.9   91  \n",
       "2          6.2          307  30.0  34.8  86.1   69  \n",
       "3          5.6          341  32.2  33.2  97.1   61  \n",
       "4         10.2          337  26.3  34.2  76.8   56  \n",
       "..         ...          ...   ...   ...   ...  ...  \n",
       "172        2.3          234  26.2  32.8  79.9   29  \n",
       "173        5.3          224  29.7  32.6  91.3   79  \n",
       "174        6.7          347  28.5  33.4  85.2   26  \n",
       "175        3.8          335  29.1  34.2  85.1   75  \n",
       "176        6.0          251  29.2  33.7  86.7   33  \n",
       "\n",
       "[177 rows x 11 columns]"
      ]
     },
     "execution_count": 97,
     "metadata": {},
     "output_type": "execute_result"
    }
   ],
   "source": [
    "x"
   ]
  },
  {
   "cell_type": "code",
   "execution_count": 98,
   "metadata": {},
   "outputs": [
    {
     "data": {
      "text/plain": [
       "0      1\n",
       "1      0\n",
       "2      0\n",
       "3      0\n",
       "4      1\n",
       "      ..\n",
       "172    1\n",
       "173    1\n",
       "174    0\n",
       "175    0\n",
       "176    0\n",
       "Name: SEX_F, Length: 177, dtype: int64"
      ]
     },
     "execution_count": 98,
     "metadata": {},
     "output_type": "execute_result"
    }
   ],
   "source": [
    "y"
   ]
  },
  {
   "cell_type": "code",
   "execution_count": 14,
   "metadata": {},
   "outputs": [
    {
     "data": {
      "text/plain": [
       "177"
      ]
     },
     "execution_count": 14,
     "metadata": {},
     "output_type": "execute_result"
    }
   ],
   "source": [
    "len(x)\n",
    "len(y)"
   ]
  },
  {
   "cell_type": "code",
   "execution_count": 15,
   "metadata": {},
   "outputs": [],
   "source": [
    "x = pd.get_dummies(x)"
   ]
  },
  {
   "cell_type": "code",
   "execution_count": 16,
   "metadata": {},
   "outputs": [
    {
     "data": {
      "text/html": [
       "<div>\n",
       "<style scoped>\n",
       "    .dataframe tbody tr th:only-of-type {\n",
       "        vertical-align: middle;\n",
       "    }\n",
       "\n",
       "    .dataframe tbody tr th {\n",
       "        vertical-align: top;\n",
       "    }\n",
       "\n",
       "    .dataframe thead th {\n",
       "        text-align: right;\n",
       "    }\n",
       "</style>\n",
       "<table border=\"1\" class=\"dataframe\">\n",
       "  <thead>\n",
       "    <tr style=\"text-align: right;\">\n",
       "      <th></th>\n",
       "      <th>Unnamed: 0</th>\n",
       "      <th>Unnamed: 0.1</th>\n",
       "      <th>HAEMATOCRIT</th>\n",
       "      <th>HAEMOGLOBINS</th>\n",
       "      <th>ERYTHROCYTE</th>\n",
       "      <th>LEUCOCYTE</th>\n",
       "      <th>THROMBOCYTE</th>\n",
       "      <th>MCH</th>\n",
       "      <th>MCHC</th>\n",
       "      <th>MCV</th>\n",
       "    </tr>\n",
       "  </thead>\n",
       "  <tbody>\n",
       "    <tr>\n",
       "      <th>0</th>\n",
       "      <td>819</td>\n",
       "      <td>3625</td>\n",
       "      <td>38.9</td>\n",
       "      <td>12.6</td>\n",
       "      <td>4.76</td>\n",
       "      <td>14.5</td>\n",
       "      <td>396</td>\n",
       "      <td>26.5</td>\n",
       "      <td>32.4</td>\n",
       "      <td>81.7</td>\n",
       "    </tr>\n",
       "    <tr>\n",
       "      <th>1</th>\n",
       "      <td>558</td>\n",
       "      <td>4394</td>\n",
       "      <td>26.3</td>\n",
       "      <td>8.2</td>\n",
       "      <td>4.18</td>\n",
       "      <td>10.9</td>\n",
       "      <td>222</td>\n",
       "      <td>19.6</td>\n",
       "      <td>31.2</td>\n",
       "      <td>62.9</td>\n",
       "    </tr>\n",
       "    <tr>\n",
       "      <th>2</th>\n",
       "      <td>774</td>\n",
       "      <td>3680</td>\n",
       "      <td>69.0</td>\n",
       "      <td>12.1</td>\n",
       "      <td>4.04</td>\n",
       "      <td>6.2</td>\n",
       "      <td>307</td>\n",
       "      <td>30.0</td>\n",
       "      <td>34.8</td>\n",
       "      <td>86.1</td>\n",
       "    </tr>\n",
       "    <tr>\n",
       "      <th>3</th>\n",
       "      <td>319</td>\n",
       "      <td>3076</td>\n",
       "      <td>40.7</td>\n",
       "      <td>13.5</td>\n",
       "      <td>4.19</td>\n",
       "      <td>5.6</td>\n",
       "      <td>341</td>\n",
       "      <td>32.2</td>\n",
       "      <td>33.2</td>\n",
       "      <td>97.1</td>\n",
       "    </tr>\n",
       "    <tr>\n",
       "      <th>4</th>\n",
       "      <td>662</td>\n",
       "      <td>2713</td>\n",
       "      <td>37.1</td>\n",
       "      <td>12.7</td>\n",
       "      <td>4.83</td>\n",
       "      <td>10.2</td>\n",
       "      <td>337</td>\n",
       "      <td>26.3</td>\n",
       "      <td>34.2</td>\n",
       "      <td>76.8</td>\n",
       "    </tr>\n",
       "  </tbody>\n",
       "</table>\n",
       "</div>"
      ],
      "text/plain": [
       "   Unnamed: 0  Unnamed: 0.1  HAEMATOCRIT  HAEMOGLOBINS  ERYTHROCYTE  \\\n",
       "0         819          3625         38.9          12.6         4.76   \n",
       "1         558          4394         26.3           8.2         4.18   \n",
       "2         774          3680         69.0          12.1         4.04   \n",
       "3         319          3076         40.7          13.5         4.19   \n",
       "4         662          2713         37.1          12.7         4.83   \n",
       "\n",
       "   LEUCOCYTE  THROMBOCYTE   MCH  MCHC   MCV  \n",
       "0       14.5          396  26.5  32.4  81.7  \n",
       "1       10.9          222  19.6  31.2  62.9  \n",
       "2        6.2          307  30.0  34.8  86.1  \n",
       "3        5.6          341  32.2  33.2  97.1  \n",
       "4       10.2          337  26.3  34.2  76.8  "
      ]
     },
     "execution_count": 16,
     "metadata": {},
     "output_type": "execute_result"
    }
   ],
   "source": [
    "x.head()"
   ]
  },
  {
   "cell_type": "code",
   "execution_count": 17,
   "metadata": {},
   "outputs": [
    {
     "data": {
      "text/html": [
       "<div>\n",
       "<style scoped>\n",
       "    .dataframe tbody tr th:only-of-type {\n",
       "        vertical-align: middle;\n",
       "    }\n",
       "\n",
       "    .dataframe tbody tr th {\n",
       "        vertical-align: top;\n",
       "    }\n",
       "\n",
       "    .dataframe thead th {\n",
       "        text-align: right;\n",
       "    }\n",
       "</style>\n",
       "<table border=\"1\" class=\"dataframe\">\n",
       "  <thead>\n",
       "    <tr style=\"text-align: right;\">\n",
       "      <th></th>\n",
       "      <th>Unnamed: 0</th>\n",
       "      <th>Unnamed: 0.1</th>\n",
       "      <th>HAEMATOCRIT</th>\n",
       "      <th>HAEMOGLOBINS</th>\n",
       "      <th>ERYTHROCYTE</th>\n",
       "      <th>LEUCOCYTE</th>\n",
       "      <th>THROMBOCYTE</th>\n",
       "      <th>MCH</th>\n",
       "      <th>MCHC</th>\n",
       "      <th>MCV</th>\n",
       "    </tr>\n",
       "  </thead>\n",
       "  <tbody>\n",
       "    <tr>\n",
       "      <th>172</th>\n",
       "      <td>204</td>\n",
       "      <td>1100</td>\n",
       "      <td>39.3</td>\n",
       "      <td>12.9</td>\n",
       "      <td>4.92</td>\n",
       "      <td>2.3</td>\n",
       "      <td>234</td>\n",
       "      <td>26.2</td>\n",
       "      <td>32.8</td>\n",
       "      <td>79.9</td>\n",
       "    </tr>\n",
       "    <tr>\n",
       "      <th>173</th>\n",
       "      <td>157</td>\n",
       "      <td>4163</td>\n",
       "      <td>39.9</td>\n",
       "      <td>13.0</td>\n",
       "      <td>4.37</td>\n",
       "      <td>5.3</td>\n",
       "      <td>224</td>\n",
       "      <td>29.7</td>\n",
       "      <td>32.6</td>\n",
       "      <td>91.3</td>\n",
       "    </tr>\n",
       "    <tr>\n",
       "      <th>174</th>\n",
       "      <td>330</td>\n",
       "      <td>884</td>\n",
       "      <td>44.3</td>\n",
       "      <td>14.8</td>\n",
       "      <td>5.20</td>\n",
       "      <td>6.7</td>\n",
       "      <td>347</td>\n",
       "      <td>28.5</td>\n",
       "      <td>33.4</td>\n",
       "      <td>85.2</td>\n",
       "    </tr>\n",
       "    <tr>\n",
       "      <th>175</th>\n",
       "      <td>843</td>\n",
       "      <td>3976</td>\n",
       "      <td>26.9</td>\n",
       "      <td>9.2</td>\n",
       "      <td>3.16</td>\n",
       "      <td>3.8</td>\n",
       "      <td>335</td>\n",
       "      <td>29.1</td>\n",
       "      <td>34.2</td>\n",
       "      <td>85.1</td>\n",
       "    </tr>\n",
       "    <tr>\n",
       "      <th>176</th>\n",
       "      <td>57</td>\n",
       "      <td>1363</td>\n",
       "      <td>45.1</td>\n",
       "      <td>15.2</td>\n",
       "      <td>5.20</td>\n",
       "      <td>6.0</td>\n",
       "      <td>251</td>\n",
       "      <td>29.2</td>\n",
       "      <td>33.7</td>\n",
       "      <td>86.7</td>\n",
       "    </tr>\n",
       "  </tbody>\n",
       "</table>\n",
       "</div>"
      ],
      "text/plain": [
       "     Unnamed: 0  Unnamed: 0.1  HAEMATOCRIT  HAEMOGLOBINS  ERYTHROCYTE  \\\n",
       "172         204          1100         39.3          12.9         4.92   \n",
       "173         157          4163         39.9          13.0         4.37   \n",
       "174         330           884         44.3          14.8         5.20   \n",
       "175         843          3976         26.9           9.2         3.16   \n",
       "176          57          1363         45.1          15.2         5.20   \n",
       "\n",
       "     LEUCOCYTE  THROMBOCYTE   MCH  MCHC   MCV  \n",
       "172        2.3          234  26.2  32.8  79.9  \n",
       "173        5.3          224  29.7  32.6  91.3  \n",
       "174        6.7          347  28.5  33.4  85.2  \n",
       "175        3.8          335  29.1  34.2  85.1  \n",
       "176        6.0          251  29.2  33.7  86.7  "
      ]
     },
     "execution_count": 17,
     "metadata": {},
     "output_type": "execute_result"
    }
   ],
   "source": [
    "x.tail()"
   ]
  },
  {
   "cell_type": "code",
   "execution_count": 18,
   "metadata": {},
   "outputs": [],
   "source": [
    "from sklearn.model_selection import train_test_split"
   ]
  },
  {
   "cell_type": "code",
   "execution_count": 3,
   "metadata": {},
   "outputs": [
    {
     "ename": "SyntaxError",
     "evalue": "positional argument follows keyword argument (<ipython-input-3-60932dec1e84>, line 1)",
     "output_type": "error",
     "traceback": [
      "\u001b[1;36m  File \u001b[1;32m\"<ipython-input-3-60932dec1e84>\"\u001b[1;36m, line \u001b[1;32m1\u001b[0m\n\u001b[1;33m    x_train,x_test,y_train,y_test =train_test_split(x,y, test_size=validation_size, random_state)\u001b[0m\n\u001b[1;37m                                                                                    ^\u001b[0m\n\u001b[1;31mSyntaxError\u001b[0m\u001b[1;31m:\u001b[0m positional argument follows keyword argument\n"
     ]
    }
   ],
   "source": [
    "x_train,x_test,y_train,y_test =train_test_split(x,y, test_size=validation_size, random_state)"
   ]
  },
  {
   "cell_type": "code",
   "execution_count": 100,
   "metadata": {},
   "outputs": [
    {
     "data": {
      "text/plain": [
       "(     Unnamed: 0  Unnamed: 0.1  HAEMATOCRIT  HAEMOGLOBINS  ERYTHROCYTE  \\\n",
       " 30          429          1357         44.1          14.8         5.35   \n",
       " 116         791           830         45.3          14.8         5.29   \n",
       " 130         207          2291         48.6          16.3         5.58   \n",
       " 10           40          3980         35.1          11.6         4.12   \n",
       " 76          744          1133         42.5          14.1         5.07   \n",
       " ..          ...           ...          ...           ...          ...   \n",
       " 83          401          3112         38.0          11.9         4.26   \n",
       " 136         875           376         37.6          12.5         4.44   \n",
       " 133         488          1013         42.6          14.3         5.59   \n",
       " 105         654           365         35.2          12.1         4.05   \n",
       " 84          792          1450         41.4          14.4         4.72   \n",
       " \n",
       "      LEUCOCYTE  THROMBOCYTE   MCH  MCHC   MCV  AGE  \n",
       " 30         4.4          109  27.7  33.6  82.4   33  \n",
       " 116        5.1          208  28.0  32.7  85.6   25  \n",
       " 130       10.7          322  29.2  33.5  87.1   49  \n",
       " 10         5.1          210  28.2  33.0  85.2   75  \n",
       " 76         5.5          242  27.8  33.2  83.8   30  \n",
       " ..         ...          ...   ...   ...   ...  ...  \n",
       " 83         8.6          296  27.9  31.3  89.2   62  \n",
       " 136        6.2          278  28.2  33.2  84.7   15  \n",
       " 133        6.1          258  25.6  33.6  76.2   28  \n",
       " 105        6.2          215  29.9  34.4  86.9   15  \n",
       " 84         9.2          247  30.5  34.8  87.7   35  \n",
       " \n",
       " [141 rows x 11 columns],\n",
       " 30     1\n",
       " 116    0\n",
       " 130    0\n",
       " 10     0\n",
       " 76     0\n",
       "       ..\n",
       " 83     1\n",
       " 136    1\n",
       " 133    0\n",
       " 105    1\n",
       " 84     0\n",
       " Name: SEX_F, Length: 141, dtype: int64)"
      ]
     },
     "execution_count": 100,
     "metadata": {},
     "output_type": "execute_result"
    }
   ],
   "source": [
    "x_train,y_train"
   ]
  },
  {
   "cell_type": "code",
   "execution_count": 23,
   "metadata": {},
   "outputs": [
    {
     "data": {
      "text/plain": [
       "(     Unnamed: 0  Unnamed: 0.1  HAEMATOCRIT  HAEMOGLOBINS  ERYTHROCYTE  \\\n",
       " 131         130          2154         43.6          14.1         4.88   \n",
       " 173         157          4163         39.9          13.0         4.37   \n",
       " 103          58           970         38.7          13.3         4.71   \n",
       " 1           558          4394         26.3           8.2         4.18   \n",
       " 168         693          2530         27.7           9.3         3.54   \n",
       " 100          30           402         46.4          15.3         5.76   \n",
       " 176          57          1363         45.1          15.2         5.20   \n",
       " 26          335          2303         44.4          15.2         5.13   \n",
       " 56          125          1199         45.1          15.4         5.22   \n",
       " 52           64          1386         37.0          12.1         4.59   \n",
       " 40          145          3959         38.4          12.9         4.22   \n",
       " 25          584          1932         34.5          11.9         4.04   \n",
       " 171         250          4360         33.3          11.5         3.62   \n",
       " 23          738          3289         43.0          15.7         5.29   \n",
       " 129         688          3730         38.6          12.9         4.48   \n",
       " 67          836          2406         38.0          12.1         5.15   \n",
       " 65          303          1324         39.1          13.8         4.56   \n",
       " 4           662          2713         37.1          12.7         4.83   \n",
       " 27          745          3765         39.2          13.2         4.28   \n",
       " 77          367            15         34.0          10.3         5.27   \n",
       " 50           18          1438         46.9          16.2         5.78   \n",
       " 88           12          4257         34.2          11.6         3.68   \n",
       " 17          421          2971         42.1          14.4         4.81   \n",
       " 153         176          2589         45.0          15.6         5.11   \n",
       " 150         632           729         40.7          13.6         4.77   \n",
       " 156         568          3508         26.6           8.9         4.02   \n",
       " 3           319          3076         40.7          13.5         4.19   \n",
       " 70          120          3294         42.2          13.5         5.30   \n",
       " 57          510           336         42.4          14.4         5.29   \n",
       " 121         409            64         37.4          12.2         4.69   \n",
       " 161          83           817         49.7          16.1         6.95   \n",
       " 172         204          1100         39.3          12.9         4.92   \n",
       " 132         682           540         42.1          14.4         5.04   \n",
       " 122         305           786         36.3          12.1         4.29   \n",
       " 160          32          4179         28.7           9.6         3.25   \n",
       " 117         183          3835         43.2          14.5         4.97   \n",
       " \n",
       "      LEUCOCYTE  THROMBOCYTE   MCH  MCHC   MCV  \n",
       " 131       11.1          240  28.9  32.3  89.3  \n",
       " 173        5.3          224  29.7  32.6  91.3  \n",
       " 103       12.2          358  28.2  34.4  82.2  \n",
       " 1         10.9          222  19.6  31.2  62.9  \n",
       " 168       10.2          247  26.3  33.6  78.2  \n",
       " 100        7.1          375  26.6  33.0  80.6  \n",
       " 176        6.0          251  29.2  33.7  86.7  \n",
       " 26        10.6          325  29.6  34.2  86.5  \n",
       " 56         6.3          201  29.5  34.1  86.4  \n",
       " 52        10.2          430  26.4  32.7  80.6  \n",
       " 40         8.9          389  30.6  33.6  91.0  \n",
       " 25         6.6          165  29.5  34.5  85.4  \n",
       " 171       12.7          361  31.8  34.5  92.0  \n",
       " 23         6.6          195  29.7  36.5  81.3  \n",
       " 129        9.6          299  28.8  33.4  86.2  \n",
       " 67         8.1          319  23.5  31.8  73.8  \n",
       " 65         5.4          276  30.3  35.3  85.7  \n",
       " 4         10.2          337  26.3  34.2  76.8  \n",
       " 27        13.3          175  30.8  33.7  91.6  \n",
       " 77        16.2          572  19.5  30.3  64.5  \n",
       " 50         7.0           50  28.0  34.5  81.1  \n",
       " 88         8.8          190  31.5  33.9  92.9  \n",
       " 17        11.7          251  29.9  34.2  87.5  \n",
       " 153        7.9          207  30.5  34.7  88.1  \n",
       " 150        4.3          199  28.5  33.4  85.3  \n",
       " 156        8.5          409  22.1  33.5  66.2  \n",
       " 3          5.6          341  32.2  33.2  97.1  \n",
       " 70        13.8          206  25.5  32.0  79.6  \n",
       " 57         2.5          161  27.2  34.0  80.2  \n",
       " 121        4.4          333  26.0  32.6  79.7  \n",
       " 161        3.6           15  23.2  32.4  71.5  \n",
       " 172        2.3          234  26.2  32.8  79.9  \n",
       " 132        7.5           63  28.6  34.2  83.5  \n",
       " 122        1.4          143  28.2  33.3  84.6  \n",
       " 160        4.1          210  29.5  33.4  88.3  \n",
       " 117        6.9          214  29.2  33.6  86.9  ,\n",
       " 131    47\n",
       " 173    79\n",
       " 103    27\n",
       " 1      91\n",
       " 168    53\n",
       " 100    17\n",
       " 176    33\n",
       " 26     49\n",
       " 56     31\n",
       " 52     34\n",
       " 40     74\n",
       " 25     44\n",
       " 171    88\n",
       " 23     64\n",
       " 129    70\n",
       " 67     51\n",
       " 65     33\n",
       " 4      56\n",
       " 27     70\n",
       " 77      1\n",
       " 50     34\n",
       " 88     83\n",
       " 17     59\n",
       " 153    54\n",
       " 150    24\n",
       " 156    67\n",
       " 3      61\n",
       " 70     64\n",
       " 57     14\n",
       " 121     2\n",
       " 161    25\n",
       " 172    29\n",
       " 132    21\n",
       " 122    25\n",
       " 160    80\n",
       " 117    72\n",
       " Name: AGE, dtype: int64)"
      ]
     },
     "execution_count": 23,
     "metadata": {},
     "output_type": "execute_result"
    }
   ],
   "source": [
    "x_test,y_test"
   ]
  },
  {
   "cell_type": "code",
   "execution_count": 33,
   "metadata": {},
   "outputs": [],
   "source": [
    "from sklearn.metrics import classification_report"
   ]
  },
  {
   "cell_type": "code",
   "execution_count": 34,
   "metadata": {},
   "outputs": [],
   "source": [
    "from sklearn.metrics import accuracy_score"
   ]
  },
  {
   "cell_type": "code",
   "execution_count": 35,
   "metadata": {},
   "outputs": [],
   "source": [
    "from sklearn.linear_model import LogisticRegression"
   ]
  },
  {
   "cell_type": "code",
   "execution_count": 36,
   "metadata": {},
   "outputs": [],
   "source": [
    "from sklearn.tree import DecisionTreeClassifier"
   ]
  },
  {
   "cell_type": "code",
   "execution_count": 37,
   "metadata": {},
   "outputs": [],
   "source": [
    "from sklearn.svm import SVC"
   ]
  },
  {
   "cell_type": "code",
   "execution_count": 38,
   "metadata": {},
   "outputs": [],
   "source": [
    "from sklearn.ensemble import RandomForestClassifier"
   ]
  },
  {
   "cell_type": "code",
   "execution_count": 39,
   "metadata": {},
   "outputs": [],
   "source": [
    "from sklearn.discriminant_analysis import LinearDiscriminantAnalysis"
   ]
  },
  {
   "cell_type": "code",
   "execution_count": 40,
   "metadata": {},
   "outputs": [],
   "source": [
    "from sklearn.naive_bayes import GaussianNB"
   ]
  },
  {
   "cell_type": "markdown",
   "metadata": {},
   "source": [
    "### Random Forest"
   ]
  },
  {
   "cell_type": "code",
   "execution_count": 101,
   "metadata": {},
   "outputs": [],
   "source": [
    "seed=8\n",
    "num_trees=100"
   ]
  },
  {
   "cell_type": "code",
   "execution_count": 102,
   "metadata": {},
   "outputs": [],
   "source": [
    "rf = RandomForestClassifier(n_estimators=num_trees, random_state=seed)"
   ]
  },
  {
   "cell_type": "code",
   "execution_count": 103,
   "metadata": {},
   "outputs": [
    {
     "data": {
      "text/plain": [
       "RandomForestClassifier(random_state=8)"
      ]
     },
     "execution_count": 103,
     "metadata": {},
     "output_type": "execute_result"
    }
   ],
   "source": [
    "rf.fit(x_train, y_train)"
   ]
  },
  {
   "cell_type": "code",
   "execution_count": 104,
   "metadata": {},
   "outputs": [],
   "source": [
    "predictions = rf.predict(x_test)"
   ]
  },
  {
   "cell_type": "code",
   "execution_count": 105,
   "metadata": {},
   "outputs": [
    {
     "name": "stdout",
     "output_type": "stream",
     "text": [
      "0.8333333333333334\n"
     ]
    }
   ],
   "source": [
    "print(accuracy_score(y_test, predictions))"
   ]
  },
  {
   "cell_type": "code",
   "execution_count": 106,
   "metadata": {},
   "outputs": [
    {
     "name": "stdout",
     "output_type": "stream",
     "text": [
      "              precision    recall  f1-score   support\n",
      "\n",
      "           0       0.90      0.83      0.86        23\n",
      "           1       0.73      0.85      0.79        13\n",
      "\n",
      "    accuracy                           0.83        36\n",
      "   macro avg       0.82      0.84      0.82        36\n",
      "weighted avg       0.84      0.83      0.84        36\n",
      "\n"
     ]
    }
   ],
   "source": [
    "print(classification_report(y_test, predictions))"
   ]
  },
  {
   "cell_type": "markdown",
   "metadata": {},
   "source": [
    "### DecisionTree"
   ]
  },
  {
   "cell_type": "code",
   "execution_count": 107,
   "metadata": {},
   "outputs": [],
   "source": [
    "from sklearn import tree"
   ]
  },
  {
   "cell_type": "code",
   "execution_count": 108,
   "metadata": {},
   "outputs": [],
   "source": [
    "from sklearn.tree import DecisionTreeClassifier\n",
    "import matplotlib.pyplot as plt\n",
    "import matplotlib.image as pltimg"
   ]
  },
  {
   "cell_type": "code",
   "execution_count": 109,
   "metadata": {},
   "outputs": [],
   "source": [
    "clf = DecisionTreeClassifier()\n",
    "dtree = clf.fit(x_train, y_train)"
   ]
  },
  {
   "cell_type": "code",
   "execution_count": 124,
   "metadata": {},
   "outputs": [
    {
     "data": {
      "image/png": "[encoded data removed]",
      "text/plain": [
       "<Figure size 1200x1200 with 1 Axes>"
      ]
     },
     "metadata": {
      "needs_background": "light"
     },
     "output_type": "display_data"
    }
   ],
   "source": [
    "fig, axes = plt.subplots(nrows = 1,ncols = 1,figsize = (4,4), dpi=300)\n",
    "\n",
    "tree.plot_tree(clf);"
   ]
  },
  {
   "cell_type": "code",
   "execution_count": 117,
   "metadata": {},
   "outputs": [],
   "source": [
    "y_pred = clf.predict(x_test)"
   ]
  },
  {
   "cell_type": "code",
   "execution_count": 126,
   "metadata": {},
   "outputs": [
    {
     "name": "stdout",
     "output_type": "stream",
     "text": [
      "              precision    recall  f1-score   support\n",
      "\n",
      "           0       0.90      0.78      0.84        23\n",
      "           1       0.69      0.85      0.76        13\n",
      "\n",
      "    accuracy                           0.81        36\n",
      "   macro avg       0.79      0.81      0.80        36\n",
      "weighted avg       0.82      0.81      0.81        36\n",
      "\n"
     ]
    }
   ],
   "source": [
    "print(classification_report(y_test, y_pred))"
   ]
  },
  {
   "cell_type": "code",
   "execution_count": 127,
   "metadata": {},
   "outputs": [
    {
     "name": "stdout",
     "output_type": "stream",
     "text": [
      "0.8055555555555556\n"
     ]
    }
   ],
   "source": [
    "print(accuracy_score(y_test, y_pred))"
   ]
  },
  {
   "cell_type": "markdown",
   "metadata": {},
   "source": [
    "### Logistic Regression"
   ]
  },
  {
   "cell_type": "code",
   "execution_count": 128,
   "metadata": {},
   "outputs": [],
   "source": [
    "import numpy as np\n",
    "from sklearn.linear_model import LogisticRegression\n",
    "from sklearn.metrics import classification_report, confusion_matrix"
   ]
  },
  {
   "cell_type": "code",
   "execution_count": 138,
   "metadata": {},
   "outputs": [],
   "source": [
    "x = np.arange(10).reshape(-1, 1)\n",
    "y = np.array([0, 1, 0, 0, 1, 1, 1, 1, 1, 1])"
   ]
  },
  {
   "cell_type": "code",
   "execution_count": 139,
   "metadata": {},
   "outputs": [
    {
     "data": {
      "text/plain": [
       "LogisticRegression(random_state=0, solver='liblinear')"
      ]
     },
     "execution_count": 139,
     "metadata": {},
     "output_type": "execute_result"
    }
   ],
   "source": [
    "model = LogisticRegression(solver='liblinear', random_state=0)\n",
    "model.fit(x, y)"
   ]
  },
  {
   "cell_type": "code",
   "execution_count": 134,
   "metadata": {},
   "outputs": [],
   "source": [
    "p_pred = model.predict_proba(x)\n",
    "y_pred = model.predict(x)\n",
    "score_ = model.score(x, y)\n",
    "conf_m = confusion_matrix(y, y_pred)\n",
    "report = classification_report(y, y_pred)"
   ]
  },
  {
   "cell_type": "code",
   "execution_count": 135,
   "metadata": {},
   "outputs": [
    {
     "name": "stdout",
     "output_type": "stream",
     "text": [
      "x:\n",
      "[[0]\n",
      " [1]\n",
      " [2]\n",
      " [3]\n",
      " [4]\n",
      " [5]\n",
      " [6]\n",
      " [7]\n",
      " [8]\n",
      " [9]]\n"
     ]
    }
   ],
   "source": [
    "print('x:', x, sep='\\n')"
   ]
  },
  {
   "cell_type": "code",
   "execution_count": 140,
   "metadata": {},
   "outputs": [
    {
     "name": "stdout",
     "output_type": "stream",
     "text": [
      "y:\n",
      "[0 1 0 0 1 1 1 1 1 1]\n",
      "\n"
     ]
    }
   ],
   "source": [
    "print('y:', y, sep='\\n', end='\\n\\n')"
   ]
  },
  {
   "cell_type": "code",
   "execution_count": 141,
   "metadata": {},
   "outputs": [
    {
     "name": "stdout",
     "output_type": "stream",
     "text": [
      "intercept: [-0.54278622]\n"
     ]
    }
   ],
   "source": [
    "print('intercept:', model.intercept_)"
   ]
  },
  {
   "cell_type": "code",
   "execution_count": 142,
   "metadata": {},
   "outputs": [
    {
     "name": "stdout",
     "output_type": "stream",
     "text": [
      "coef: [[0.45940151]]\n",
      "\n"
     ]
    }
   ],
   "source": [
    "print('coef:', model.coef_, end='\\n\\n')"
   ]
  },
  {
   "cell_type": "code",
   "execution_count": 143,
   "metadata": {},
   "outputs": [
    {
     "name": "stdout",
     "output_type": "stream",
     "text": [
      "p_pred:\n",
      "[[0.63246033 0.36753967]\n",
      " [0.52083411 0.47916589]\n",
      " [0.40708796 0.59291204]\n",
      " [0.30250062 0.69749938]\n",
      " [0.21503812 0.78496188]\n",
      " [0.14751556 0.85248444]\n",
      " [0.09853381 0.90146619]\n",
      " [0.06458402 0.93541598]\n",
      " [0.04178936 0.95821064]\n",
      " [0.0268094  0.9731906 ]]\n",
      "\n"
     ]
    }
   ],
   "source": [
    "print('p_pred:', p_pred, sep='\\n', end='\\n\\n')"
   ]
  },
  {
   "cell_type": "code",
   "execution_count": 144,
   "metadata": {},
   "outputs": [
    {
     "name": "stdout",
     "output_type": "stream",
     "text": [
      "y_pred: [0 0 1 1 1 1 1 1 1 1]\n",
      "\n"
     ]
    }
   ],
   "source": [
    "print('y_pred:', y_pred, end='\\n\\n')"
   ]
  },
  {
   "cell_type": "code",
   "execution_count": 145,
   "metadata": {},
   "outputs": [
    {
     "name": "stdout",
     "output_type": "stream",
     "text": [
      "score_: 0.7\n",
      "\n"
     ]
    }
   ],
   "source": [
    "print('score_:', score_, end='\\n\\n')"
   ]
  },
  {
   "cell_type": "code",
   "execution_count": 146,
   "metadata": {},
   "outputs": [
    {
     "name": "stdout",
     "output_type": "stream",
     "text": [
      "conf_m:\n",
      "[[1 2]\n",
      " [1 6]]\n",
      "\n"
     ]
    }
   ],
   "source": [
    "print('conf_m:', conf_m, sep='\\n', end='\\n\\n')"
   ]
  },
  {
   "cell_type": "code",
   "execution_count": 147,
   "metadata": {},
   "outputs": [
    {
     "name": "stdout",
     "output_type": "stream",
     "text": [
      "report:\n",
      "              precision    recall  f1-score   support\n",
      "\n",
      "           0       0.50      0.33      0.40         3\n",
      "           1       0.75      0.86      0.80         7\n",
      "\n",
      "    accuracy                           0.70        10\n",
      "   macro avg       0.62      0.60      0.60        10\n",
      "weighted avg       0.68      0.70      0.68        10\n",
      "\n"
     ]
    }
   ],
   "source": [
    "print('report:', report, sep='\\n')"
   ]
  },
  {
   "cell_type": "code",
   "execution_count": 148,
   "metadata": {},
   "outputs": [],
   "source": [
    "import numpy as np\n",
    "import statsmodels.api as sm"
   ]
  },
  {
   "cell_type": "code",
   "execution_count": 149,
   "metadata": {},
   "outputs": [],
   "source": [
    "x = np.arange(10).reshape(-1, 1)\n",
    "y = np.array([0, 1, 0, 0, 1, 1, 1, 1, 1, 1])\n",
    "x = sm.add_constant(x)"
   ]
  },
  {
   "cell_type": "code",
   "execution_count": 150,
   "metadata": {},
   "outputs": [
    {
     "data": {
      "text/plain": [
       "array([[1., 0.],\n",
       "       [1., 1.],\n",
       "       [1., 2.],\n",
       "       [1., 3.],\n",
       "       [1., 4.],\n",
       "       [1., 5.],\n",
       "       [1., 6.],\n",
       "       [1., 7.],\n",
       "       [1., 8.],\n",
       "       [1., 9.]])"
      ]
     },
     "execution_count": 150,
     "metadata": {},
     "output_type": "execute_result"
    }
   ],
   "source": [
    "x"
   ]
  },
  {
   "cell_type": "code",
   "execution_count": 151,
   "metadata": {},
   "outputs": [
    {
     "data": {
      "text/plain": [
       "array([0, 1, 0, 0, 1, 1, 1, 1, 1, 1])"
      ]
     },
     "execution_count": 151,
     "metadata": {},
     "output_type": "execute_result"
    }
   ],
   "source": [
    "y"
   ]
  },
  {
   "cell_type": "code",
   "execution_count": 152,
   "metadata": {},
   "outputs": [],
   "source": [
    "model = sm.Logit(y, x)"
   ]
  },
  {
   "cell_type": "code",
   "execution_count": 153,
   "metadata": {},
   "outputs": [
    {
     "name": "stdout",
     "output_type": "stream",
     "text": [
      "Optimization terminated successfully.\n",
      "         Current function value: 0.350471\n",
      "         Iterations 7\n"
     ]
    }
   ],
   "source": [
    "result = model.fit(method='newton')"
   ]
  },
  {
   "cell_type": "code",
   "execution_count": 154,
   "metadata": {},
   "outputs": [
    {
     "data": {
      "text/plain": [
       "array([-1.972805  ,  0.82240094])"
      ]
     },
     "execution_count": 154,
     "metadata": {},
     "output_type": "execute_result"
    }
   ],
   "source": [
    "result.params"
   ]
  },
  {
   "cell_type": "code",
   "execution_count": 155,
   "metadata": {},
   "outputs": [
    {
     "data": {
      "text/plain": [
       "array([0.12208792, 0.24041529, 0.41872657, 0.62114189, 0.78864861,\n",
       "       0.89465521, 0.95080891, 0.97777369, 0.99011108, 0.99563083])"
      ]
     },
     "execution_count": 155,
     "metadata": {},
     "output_type": "execute_result"
    }
   ],
   "source": [
    "result.predict(x)"
   ]
  },
  {
   "cell_type": "code",
   "execution_count": 156,
   "metadata": {},
   "outputs": [
    {
     "data": {
      "text/plain": [
       "array([0, 0, 0, 1, 1, 1, 1, 1, 1, 1])"
      ]
     },
     "execution_count": 156,
     "metadata": {},
     "output_type": "execute_result"
    }
   ],
   "source": [
    "(result.predict(x) >= 0.5).astype(int)"
   ]
  },
  {
   "cell_type": "code",
   "execution_count": 157,
   "metadata": {},
   "outputs": [
    {
     "data": {
      "text/plain": [
       "array([[2., 1.],\n",
       "       [1., 6.]])"
      ]
     },
     "execution_count": 157,
     "metadata": {},
     "output_type": "execute_result"
    }
   ],
   "source": [
    "result.pred_table()"
   ]
  },
  {
   "cell_type": "code",
   "execution_count": 158,
   "metadata": {},
   "outputs": [
    {
     "data": {
      "text/html": [
       "<table class=\"simpletable\">\n",
       "<caption>Logit Regression Results</caption>\n",
       "<tr>\n",
       "  <th>Dep. Variable:</th>           <td>y</td>        <th>  No. Observations:  </th>  <td>    10</td> \n",
       "</tr>\n",
       "<tr>\n",
       "  <th>Model:</th>                 <td>Logit</td>      <th>  Df Residuals:      </th>  <td>     8</td> \n",
       "</tr>\n",
       "<tr>\n",
       "  <th>Method:</th>                 <td>MLE</td>       <th>  Df Model:          </th>  <td>     1</td> \n",
       "</tr>\n",
       "<tr>\n",
       "  <th>Date:</th>            <td>Fri, 14 May 2021</td> <th>  Pseudo R-squ.:     </th>  <td>0.4263</td> \n",
       "</tr>\n",
       "<tr>\n",
       "  <th>Time:</th>                <td>21:09:19</td>     <th>  Log-Likelihood:    </th> <td> -3.5047</td>\n",
       "</tr>\n",
       "<tr>\n",
       "  <th>converged:</th>             <td>True</td>       <th>  LL-Null:           </th> <td> -6.1086</td>\n",
       "</tr>\n",
       "<tr>\n",
       "  <th>Covariance Type:</th>     <td>nonrobust</td>    <th>  LLR p-value:       </th>  <td>0.02248</td>\n",
       "</tr>\n",
       "</table>\n",
       "<table class=\"simpletable\">\n",
       "<tr>\n",
       "    <td></td>       <th>coef</th>     <th>std err</th>      <th>z</th>      <th>P>|z|</th>  <th>[0.025</th>    <th>0.975]</th>  \n",
       "</tr>\n",
       "<tr>\n",
       "  <th>const</th> <td>   -1.9728</td> <td>    1.737</td> <td>   -1.136</td> <td> 0.256</td> <td>   -5.377</td> <td>    1.431</td>\n",
       "</tr>\n",
       "<tr>\n",
       "  <th>x1</th>    <td>    0.8224</td> <td>    0.528</td> <td>    1.557</td> <td> 0.119</td> <td>   -0.213</td> <td>    1.858</td>\n",
       "</tr>\n",
       "</table>"
      ],
      "text/plain": [
       "<class 'statsmodels.iolib.summary.Summary'>\n",
       "\"\"\"\n",
       "                           Logit Regression Results                           \n",
       "==============================================================================\n",
       "Dep. Variable:                      y   No. Observations:                   10\n",
       "Model:                          Logit   Df Residuals:                        8\n",
       "Method:                           MLE   Df Model:                            1\n",
       "Date:                Fri, 14 May 2021   Pseudo R-squ.:                  0.4263\n",
       "Time:                        21:09:19   Log-Likelihood:                -3.5047\n",
       "converged:                       True   LL-Null:                       -6.1086\n",
       "Covariance Type:            nonrobust   LLR p-value:                   0.02248\n",
       "==============================================================================\n",
       "                 coef    std err          z      P>|z|      [0.025      0.975]\n",
       "------------------------------------------------------------------------------\n",
       "const         -1.9728      1.737     -1.136      0.256      -5.377       1.431\n",
       "x1             0.8224      0.528      1.557      0.119      -0.213       1.858\n",
       "==============================================================================\n",
       "\"\"\""
      ]
     },
     "execution_count": 158,
     "metadata": {},
     "output_type": "execute_result"
    }
   ],
   "source": [
    "result.summary()"
   ]
  },
  {
   "cell_type": "code",
   "execution_count": 159,
   "metadata": {},
   "outputs": [
    {
     "data": {
      "text/html": [
       "<table class=\"simpletable\">\n",
       "<tr>\n",
       "        <td>Model:</td>              <td>Logit</td>      <td>Pseudo R-squared:</td>   <td>0.426</td> \n",
       "</tr>\n",
       "<tr>\n",
       "  <td>Dependent Variable:</td>         <td>y</td>              <td>AIC:</td>         <td>11.0094</td>\n",
       "</tr>\n",
       "<tr>\n",
       "         <td>Date:</td>        <td>2021-05-14 21:09</td>       <td>BIC:</td>         <td>11.6146</td>\n",
       "</tr>\n",
       "<tr>\n",
       "   <td>No. Observations:</td>         <td>10</td>         <td>Log-Likelihood:</td>   <td>-3.5047</td>\n",
       "</tr>\n",
       "<tr>\n",
       "       <td>Df Model:</td>              <td>1</td>            <td>LL-Null:</td>       <td>-6.1086</td>\n",
       "</tr>\n",
       "<tr>\n",
       "     <td>Df Residuals:</td>            <td>8</td>          <td>LLR p-value:</td>    <td>0.022485</td>\n",
       "</tr>\n",
       "<tr>\n",
       "      <td>Converged:</td>           <td>1.0000</td>           <td>Scale:</td>        <td>1.0000</td> \n",
       "</tr>\n",
       "<tr>\n",
       "    <td>No. Iterations:</td>        <td>7.0000</td>              <td></td>              <td></td>    \n",
       "</tr>\n",
       "</table>\n",
       "<table class=\"simpletable\">\n",
       "<tr>\n",
       "    <td></td>     <th>Coef.</th>  <th>Std.Err.</th>    <th>z</th>     <th>P>|z|</th> <th>[0.025</th>  <th>0.975]</th>\n",
       "</tr>\n",
       "<tr>\n",
       "  <th>const</th> <td>-1.9728</td>  <td>1.7366</td>  <td>-1.1360</td> <td>0.2560</td> <td>-5.3765</td> <td>1.4309</td>\n",
       "</tr>\n",
       "<tr>\n",
       "  <th>x1</th>    <td>0.8224</td>   <td>0.5281</td>  <td>1.5572</td>  <td>0.1194</td> <td>-0.2127</td> <td>1.8575</td>\n",
       "</tr>\n",
       "</table>"
      ],
      "text/plain": [
       "<class 'statsmodels.iolib.summary2.Summary'>\n",
       "\"\"\"\n",
       "                        Results: Logit\n",
       "===============================================================\n",
       "Model:              Logit            Pseudo R-squared: 0.426   \n",
       "Dependent Variable: y                AIC:              11.0094 \n",
       "Date:               2021-05-14 21:09 BIC:              11.6146 \n",
       "No. Observations:   10               Log-Likelihood:   -3.5047 \n",
       "Df Model:           1                LL-Null:          -6.1086 \n",
       "Df Residuals:       8                LLR p-value:      0.022485\n",
       "Converged:          1.0000           Scale:            1.0000  \n",
       "No. Iterations:     7.0000                                     \n",
       "-----------------------------------------------------------------\n",
       "          Coef.    Std.Err.      z      P>|z|     [0.025   0.975]\n",
       "-----------------------------------------------------------------\n",
       "const    -1.9728     1.7366   -1.1360   0.2560   -5.3765   1.4309\n",
       "x1        0.8224     0.5281    1.5572   0.1194   -0.2127   1.8575\n",
       "===============================================================\n",
       "\n",
       "\"\"\""
      ]
     },
     "execution_count": 159,
     "metadata": {},
     "output_type": "execute_result"
    }
   ],
   "source": [
    "result.summary2()"
   ]
  },
  {
   "cell_type": "code",
   "execution_count": 161,
   "metadata": {},
   "outputs": [
    {
     "data": {
      "text/plain": [
       "LogisticRegression(multi_class='warn', random_state=0, solver='liblinear')"
      ]
     },
     "execution_count": 161,
     "metadata": {},
     "output_type": "execute_result"
    }
   ],
   "source": [
    "LogisticRegression(C=1.0, class_weight=None, dual=False, fit_intercept=True,\n",
    "                   intercept_scaling=1, l1_ratio=None, max_iter=100,\n",
    "                   multi_class='warn', n_jobs=None, penalty='l2',\n",
    "                   random_state=0, solver='liblinear', tol=0.0001, verbose=0,\n",
    "                   warm_start=False)"
   ]
  },
  {
   "cell_type": "code",
   "execution_count": 162,
   "metadata": {},
   "outputs": [],
   "source": [
    "model = LogisticRegression(solver='liblinear', random_state=0).fit(x, y)"
   ]
  },
  {
   "cell_type": "code",
   "execution_count": 163,
   "metadata": {},
   "outputs": [
    {
     "data": {
      "text/plain": [
       "array([0, 1])"
      ]
     },
     "execution_count": 163,
     "metadata": {},
     "output_type": "execute_result"
    }
   ],
   "source": [
    "model.classes_"
   ]
  },
  {
   "cell_type": "code",
   "execution_count": 164,
   "metadata": {},
   "outputs": [
    {
     "data": {
      "text/plain": [
       "array([-0.3954968])"
      ]
     },
     "execution_count": 164,
     "metadata": {},
     "output_type": "execute_result"
    }
   ],
   "source": [
    " model.intercept_"
   ]
  },
  {
   "cell_type": "code",
   "execution_count": 165,
   "metadata": {},
   "outputs": [
    {
     "data": {
      "text/plain": [
       "array([[-0.3954968 ,  0.50988936]])"
      ]
     },
     "execution_count": 165,
     "metadata": {},
     "output_type": "execute_result"
    }
   ],
   "source": [
    "model.coef_"
   ]
  },
  {
   "cell_type": "code",
   "execution_count": 166,
   "metadata": {},
   "outputs": [
    {
     "data": {
      "text/plain": [
       "array([[0.68804463, 0.31195537],\n",
       "       [0.56981692, 0.43018308],\n",
       "       [0.4430519 , 0.5569481 ],\n",
       "       [0.32329406, 0.67670594],\n",
       "       [0.22294884, 0.77705116],\n",
       "       [0.14698417, 0.85301583],\n",
       "       [0.09377897, 0.90622103],\n",
       "       [0.05851188, 0.94148812],\n",
       "       [0.03598095, 0.96401905],\n",
       "       [0.02192389, 0.97807611]])"
      ]
     },
     "execution_count": 166,
     "metadata": {},
     "output_type": "execute_result"
    }
   ],
   "source": [
    "model.predict_proba(x)"
   ]
  },
  {
   "cell_type": "code",
   "execution_count": 167,
   "metadata": {},
   "outputs": [
    {
     "data": {
      "text/plain": [
       "array([0, 0, 1, 1, 1, 1, 1, 1, 1, 1])"
      ]
     },
     "execution_count": 167,
     "metadata": {},
     "output_type": "execute_result"
    }
   ],
   "source": [
    "model.predict(x)"
   ]
  },
  {
   "cell_type": "code",
   "execution_count": 168,
   "metadata": {},
   "outputs": [
    {
     "data": {
      "text/plain": [
       "0.7"
      ]
     },
     "execution_count": 168,
     "metadata": {},
     "output_type": "execute_result"
    }
   ],
   "source": [
    "model.score(x, y)"
   ]
  },
  {
   "cell_type": "code",
   "execution_count": 169,
   "metadata": {},
   "outputs": [
    {
     "data": {
      "text/plain": [
       "array([[1, 2],\n",
       "       [1, 6]], dtype=int64)"
      ]
     },
     "execution_count": 169,
     "metadata": {},
     "output_type": "execute_result"
    }
   ],
   "source": [
    "confusion_matrix(y, model.predict(x))"
   ]
  },
  {
   "cell_type": "code",
   "execution_count": 170,
   "metadata": {},
   "outputs": [
    {
     "data": {
      "image/png": "[encoded data removed]",
      "text/plain": [
       "<Figure size 576x576 with 1 Axes>"
      ]
     },
     "metadata": {
      "needs_background": "light"
     },
     "output_type": "display_data"
    }
   ],
   "source": [
    "cm = confusion_matrix(y, model.predict(x))\n",
    "\n",
    "fig, ax = plt.subplots(figsize=(8, 8))\n",
    "ax.imshow(cm)\n",
    "ax.grid(False)\n",
    "ax.xaxis.set(ticks=(0, 1), ticklabels=('Predicted 0s', 'Predicted 1s'))\n",
    "ax.yaxis.set(ticks=(0, 1), ticklabels=('Actual 0s', 'Actual 1s'))\n",
    "ax.set_ylim(1.5, -0.5)\n",
    "for i in range(2):\n",
    "    for j in range(2):\n",
    "        ax.text(j, i, cm[i, j], ha='center', va='center', color='red')\n",
    "plt.show()"
   ]
  },
  {
   "cell_type": "code",
   "execution_count": 171,
   "metadata": {},
   "outputs": [
    {
     "name": "stdout",
     "output_type": "stream",
     "text": [
      "              precision    recall  f1-score   support\n",
      "\n",
      "           0       0.50      0.33      0.40         3\n",
      "           1       0.75      0.86      0.80         7\n",
      "\n",
      "    accuracy                           0.70        10\n",
      "   macro avg       0.62      0.60      0.60        10\n",
      "weighted avg       0.68      0.70      0.68        10\n",
      "\n"
     ]
    }
   ],
   "source": [
    "print(classification_report(y, model.predict(x)))"
   ]
  },
  {
   "cell_type": "code",
   "execution_count": 172,
   "metadata": {},
   "outputs": [
    {
     "data": {
      "text/plain": [
       "LogisticRegression(C=10.0, random_state=0, solver='liblinear')"
      ]
     },
     "execution_count": 172,
     "metadata": {},
     "output_type": "execute_result"
    }
   ],
   "source": [
    "model = LogisticRegression(solver='liblinear', C=10.0, random_state=0)\n",
    "model.fit(x, y)"
   ]
  },
  {
   "cell_type": "code",
   "execution_count": 173,
   "metadata": {},
   "outputs": [
    {
     "data": {
      "text/plain": [
       "array([-0.84207375])"
      ]
     },
     "execution_count": 173,
     "metadata": {},
     "output_type": "execute_result"
    }
   ],
   "source": [
    "model.intercept_"
   ]
  },
  {
   "cell_type": "code",
   "execution_count": 174,
   "metadata": {},
   "outputs": [
    {
     "data": {
      "text/plain": [
       "array([[-0.84207375,  0.74417061]])"
      ]
     },
     "execution_count": 174,
     "metadata": {},
     "output_type": "execute_result"
    }
   ],
   "source": [
    "model.coef_"
   ]
  },
  {
   "cell_type": "code",
   "execution_count": 175,
   "metadata": {},
   "outputs": [
    {
     "data": {
      "text/plain": [
       "array([[0.84345295, 0.15654705],\n",
       "       [0.71909499, 0.28090501],\n",
       "       [0.54879577, 0.45120423],\n",
       "       [0.36624398, 0.63375602],\n",
       "       [0.21542406, 0.78457594],\n",
       "       [0.11540262, 0.88459738],\n",
       "       [0.05836638, 0.94163362],\n",
       "       [0.02860791, 0.97139209],\n",
       "       [0.01379964, 0.98620036],\n",
       "       [0.00660443, 0.99339557]])"
      ]
     },
     "execution_count": 175,
     "metadata": {},
     "output_type": "execute_result"
    }
   ],
   "source": [
    "model.predict_proba(x)"
   ]
  },
  {
   "cell_type": "code",
   "execution_count": 176,
   "metadata": {},
   "outputs": [
    {
     "data": {
      "text/plain": [
       "array([0, 0, 0, 1, 1, 1, 1, 1, 1, 1])"
      ]
     },
     "execution_count": 176,
     "metadata": {},
     "output_type": "execute_result"
    }
   ],
   "source": [
    "model.predict(x)"
   ]
  },
  {
   "cell_type": "code",
   "execution_count": 177,
   "metadata": {},
   "outputs": [
    {
     "data": {
      "text/plain": [
       "0.8"
      ]
     },
     "execution_count": 177,
     "metadata": {},
     "output_type": "execute_result"
    }
   ],
   "source": [
    "model.score(x, y)"
   ]
  },
  {
   "cell_type": "code",
   "execution_count": 178,
   "metadata": {},
   "outputs": [
    {
     "data": {
      "text/plain": [
       "array([[2, 1],\n",
       "       [1, 6]], dtype=int64)"
      ]
     },
     "execution_count": 178,
     "metadata": {},
     "output_type": "execute_result"
    }
   ],
   "source": [
    "confusion_matrix(y, model.predict(x))"
   ]
  },
  {
   "cell_type": "code",
   "execution_count": 179,
   "metadata": {},
   "outputs": [
    {
     "name": "stdout",
     "output_type": "stream",
     "text": [
      "              precision    recall  f1-score   support\n",
      "\n",
      "           0       0.67      0.67      0.67         3\n",
      "           1       0.86      0.86      0.86         7\n",
      "\n",
      "    accuracy                           0.80        10\n",
      "   macro avg       0.76      0.76      0.76        10\n",
      "weighted avg       0.80      0.80      0.80        10\n",
      "\n"
     ]
    }
   ],
   "source": [
    "print(classification_report(y, model.predict(x)))"
   ]
  },
  {
   "cell_type": "code",
   "execution_count": 180,
   "metadata": {},
   "outputs": [],
   "source": [
    "import numpy as np\n",
    "from sklearn.linear_model import LogisticRegression\n",
    "from sklearn.metrics import classification_report, confusion_matrix"
   ]
  },
  {
   "cell_type": "code",
   "execution_count": 181,
   "metadata": {},
   "outputs": [],
   "source": [
    "x = np.arange(10).reshape(-1, 1)\n",
    "y = np.array([0, 1, 0, 0, 1, 1, 1, 1, 1, 1])"
   ]
  },
  {
   "cell_type": "code",
   "execution_count": 182,
   "metadata": {},
   "outputs": [
    {
     "data": {
      "text/plain": [
       "LogisticRegression(C=10.0, random_state=0, solver='liblinear')"
      ]
     },
     "execution_count": 182,
     "metadata": {},
     "output_type": "execute_result"
    }
   ],
   "source": [
    "model = LogisticRegression(solver='liblinear', C=10.0, random_state=0)\n",
    "model.fit(x, y)"
   ]
  },
  {
   "cell_type": "code",
   "execution_count": 183,
   "metadata": {},
   "outputs": [],
   "source": [
    "p_pred = model.predict_proba(x)\n",
    "y_pred = model.predict(x)\n",
    "score_ = model.score(x, y)\n",
    "conf_m = confusion_matrix(y, y_pred)\n",
    "report = classification_report(y, y_pred)"
   ]
  },
  {
   "cell_type": "code",
   "execution_count": 184,
   "metadata": {},
   "outputs": [
    {
     "name": "stdout",
     "output_type": "stream",
     "text": [
      "x:\n",
      "[[0]\n",
      " [1]\n",
      " [2]\n",
      " [3]\n",
      " [4]\n",
      " [5]\n",
      " [6]\n",
      " [7]\n",
      " [8]\n",
      " [9]]\n"
     ]
    }
   ],
   "source": [
    "print('x:', x, sep='\\n')"
   ]
  },
  {
   "cell_type": "code",
   "execution_count": 185,
   "metadata": {},
   "outputs": [
    {
     "name": "stdout",
     "output_type": "stream",
     "text": [
      "y:\n",
      "[0 1 0 0 1 1 1 1 1 1]\n",
      "\n"
     ]
    }
   ],
   "source": [
    " print('y:', y, sep='\\n', end='\\n\\n')"
   ]
  },
  {
   "cell_type": "code",
   "execution_count": 186,
   "metadata": {},
   "outputs": [
    {
     "name": "stdout",
     "output_type": "stream",
     "text": [
      "intercept: [-1.51632619]\n"
     ]
    }
   ],
   "source": [
    "print('intercept:', model.intercept_)"
   ]
  },
  {
   "cell_type": "code",
   "execution_count": 187,
   "metadata": {},
   "outputs": [
    {
     "name": "stdout",
     "output_type": "stream",
     "text": [
      "coef: [[0.703457]]\n",
      "\n"
     ]
    }
   ],
   "source": [
    "print('coef:', model.coef_, end='\\n\\n')"
   ]
  },
  {
   "cell_type": "code",
   "execution_count": 188,
   "metadata": {},
   "outputs": [
    {
     "name": "stdout",
     "output_type": "stream",
     "text": [
      "p_pred:\n",
      "[[0.81999686 0.18000314]\n",
      " [0.69272057 0.30727943]\n",
      " [0.52732579 0.47267421]\n",
      " [0.35570732 0.64429268]\n",
      " [0.21458576 0.78541424]\n",
      " [0.11910229 0.88089771]\n",
      " [0.06271329 0.93728671]\n",
      " [0.03205032 0.96794968]\n",
      " [0.0161218  0.9838782 ]\n",
      " [0.00804372 0.99195628]]\n",
      "\n"
     ]
    }
   ],
   "source": [
    "print('p_pred:', p_pred, sep='\\n', end='\\n\\n')"
   ]
  },
  {
   "cell_type": "code",
   "execution_count": 189,
   "metadata": {},
   "outputs": [
    {
     "name": "stdout",
     "output_type": "stream",
     "text": [
      "y_pred: [0 0 0 1 1 1 1 1 1 1]\n",
      "\n"
     ]
    }
   ],
   "source": [
    "print('y_pred:', y_pred, end='\\n\\n')"
   ]
  },
  {
   "cell_type": "code",
   "execution_count": 190,
   "metadata": {},
   "outputs": [
    {
     "name": "stdout",
     "output_type": "stream",
     "text": [
      "score_: 0.8\n",
      "\n"
     ]
    }
   ],
   "source": [
    "print('score_:', score_, end='\\n\\n')"
   ]
  },
  {
   "cell_type": "code",
   "execution_count": 191,
   "metadata": {},
   "outputs": [
    {
     "name": "stdout",
     "output_type": "stream",
     "text": [
      "conf_m:\n",
      "[[2 1]\n",
      " [1 6]]\n",
      "\n"
     ]
    }
   ],
   "source": [
    "print('conf_m:', conf_m, sep='\\n', end='\\n\\n')"
   ]
  },
  {
   "cell_type": "code",
   "execution_count": 192,
   "metadata": {},
   "outputs": [
    {
     "name": "stdout",
     "output_type": "stream",
     "text": [
      "report:\n",
      "              precision    recall  f1-score   support\n",
      "\n",
      "           0       0.67      0.67      0.67         3\n",
      "           1       0.86      0.86      0.86         7\n",
      "\n",
      "    accuracy                           0.80        10\n",
      "   macro avg       0.76      0.76      0.76        10\n",
      "weighted avg       0.80      0.80      0.80        10\n",
      "\n"
     ]
    }
   ],
   "source": [
    "print('report:', report, sep='\\n')"
   ]
  },
  {
   "cell_type": "code",
   "execution_count": null,
   "metadata": {},
   "outputs": [],
   "source": []
  }
 ],
 "metadata": {
  "kernelspec": {
   "display_name": "Python 3",
   "language": "python",
   "name": "python3"
  },
  "language_info": {
   "codemirror_mode": {
    "name": "ipython",
    "version": 3
   },
   "file_extension": ".py",
   "mimetype": "text/x-python",
   "name": "python",
   "nbconvert_exporter": "python",
   "pygments_lexer": "ipython3",
   "version": "3.8.5"
  }
 },
 "nbformat": 4,
 "nbformat_minor": 4
}
